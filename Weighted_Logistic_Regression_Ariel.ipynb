{
 "cells": [
  {
   "cell_type": "markdown",
   "metadata": {},
   "source": [
    "Author: Divya "
   ]
  },
  {
   "cell_type": "code",
   "execution_count": 1,
   "metadata": {},
   "outputs": [],
   "source": [
    "# Load necessary packages\n",
    "import numpy as np\n",
    "import pandas as pd\n",
    "import matplotlib as mpl\n",
    "\n",
    "# Visualization modules\n",
    "%matplotlib inline\n",
    "import matplotlib.pyplot as plt\n",
    "import seaborn as sns\n",
    "sns.set()\n",
    "\n",
    "# Data-processing modules \n",
    "from sklearn.model_selection import train_test_split\n",
    "from sklearn.preprocessing import StandardScaler\n",
    "from sklearn.preprocessing import MinMaxScaler\n",
    "from sklearn.decomposition import PCA\n",
    "\n",
    "# Modeling and evaluation modules \n",
    "from sklearn.ensemble import RandomForestClassifier\n",
    "from sklearn.ensemble import AdaBoostClassifier\n",
    "from sklearn.ensemble import GradientBoostingClassifier\n",
    "import xgboost as xgb \n",
    "from sklearn.model_selection import GridSearchCV\n",
    "from sklearn.model_selection import RandomizedSearchCV \n",
    "from sklearn import metrics\n",
    "\n",
    "import warnings\n",
    "warnings.filterwarnings(\"ignore\")\n",
    "\n",
    "# Module for saving model\n",
    "import pickle \n",
    "\n",
    "# Set seed for reproducibility \n",
    "SEED = 42"
   ]
  },
  {
   "cell_type": "code",
   "execution_count": 2,
   "metadata": {},
   "outputs": [
    {
     "data": {
      "text/html": [
       "<div>\n",
       "<style scoped>\n",
       "    .dataframe tbody tr th:only-of-type {\n",
       "        vertical-align: middle;\n",
       "    }\n",
       "\n",
       "    .dataframe tbody tr th {\n",
       "        vertical-align: top;\n",
       "    }\n",
       "\n",
       "    .dataframe thead th {\n",
       "        text-align: right;\n",
       "    }\n",
       "</style>\n",
       "<table border=\"1\" class=\"dataframe\">\n",
       "  <thead>\n",
       "    <tr style=\"text-align: right;\">\n",
       "      <th></th>\n",
       "      <th>Unnamed: 0</th>\n",
       "      <th>step</th>\n",
       "      <th>amount</th>\n",
       "      <th>oldBalanceOrig</th>\n",
       "      <th>newBalanceOrig</th>\n",
       "      <th>oldBalanceDest</th>\n",
       "      <th>newBalanceDest</th>\n",
       "      <th>isFraud</th>\n",
       "      <th>errorBalanceOrig</th>\n",
       "      <th>errorBalanceDest</th>\n",
       "      <th>...</th>\n",
       "      <th>CASH_OUT</th>\n",
       "      <th>DEBIT</th>\n",
       "      <th>PAYMENT</th>\n",
       "      <th>TRANSFER</th>\n",
       "      <th>CC</th>\n",
       "      <th>CM</th>\n",
       "      <th>quartile1</th>\n",
       "      <th>quartile2</th>\n",
       "      <th>quartile3</th>\n",
       "      <th>quartile4</th>\n",
       "    </tr>\n",
       "  </thead>\n",
       "  <tbody>\n",
       "    <tr>\n",
       "      <td>0</td>\n",
       "      <td>0</td>\n",
       "      <td>1</td>\n",
       "      <td>9839.64</td>\n",
       "      <td>170136.0</td>\n",
       "      <td>160296.36</td>\n",
       "      <td>0.0</td>\n",
       "      <td>0.0</td>\n",
       "      <td>0</td>\n",
       "      <td>0.0</td>\n",
       "      <td>9839.64</td>\n",
       "      <td>...</td>\n",
       "      <td>0</td>\n",
       "      <td>0</td>\n",
       "      <td>1</td>\n",
       "      <td>0</td>\n",
       "      <td>0</td>\n",
       "      <td>1</td>\n",
       "      <td>1</td>\n",
       "      <td>0</td>\n",
       "      <td>0</td>\n",
       "      <td>0</td>\n",
       "    </tr>\n",
       "    <tr>\n",
       "      <td>1</td>\n",
       "      <td>1</td>\n",
       "      <td>1</td>\n",
       "      <td>1864.28</td>\n",
       "      <td>21249.0</td>\n",
       "      <td>19384.72</td>\n",
       "      <td>0.0</td>\n",
       "      <td>0.0</td>\n",
       "      <td>0</td>\n",
       "      <td>0.0</td>\n",
       "      <td>1864.28</td>\n",
       "      <td>...</td>\n",
       "      <td>0</td>\n",
       "      <td>0</td>\n",
       "      <td>1</td>\n",
       "      <td>0</td>\n",
       "      <td>0</td>\n",
       "      <td>1</td>\n",
       "      <td>1</td>\n",
       "      <td>0</td>\n",
       "      <td>0</td>\n",
       "      <td>0</td>\n",
       "    </tr>\n",
       "    <tr>\n",
       "      <td>2</td>\n",
       "      <td>2</td>\n",
       "      <td>1</td>\n",
       "      <td>181.00</td>\n",
       "      <td>181.0</td>\n",
       "      <td>0.00</td>\n",
       "      <td>0.0</td>\n",
       "      <td>0.0</td>\n",
       "      <td>1</td>\n",
       "      <td>0.0</td>\n",
       "      <td>181.00</td>\n",
       "      <td>...</td>\n",
       "      <td>0</td>\n",
       "      <td>0</td>\n",
       "      <td>0</td>\n",
       "      <td>1</td>\n",
       "      <td>1</td>\n",
       "      <td>0</td>\n",
       "      <td>1</td>\n",
       "      <td>0</td>\n",
       "      <td>0</td>\n",
       "      <td>0</td>\n",
       "    </tr>\n",
       "    <tr>\n",
       "      <td>3</td>\n",
       "      <td>3</td>\n",
       "      <td>1</td>\n",
       "      <td>181.00</td>\n",
       "      <td>181.0</td>\n",
       "      <td>0.00</td>\n",
       "      <td>21182.0</td>\n",
       "      <td>0.0</td>\n",
       "      <td>1</td>\n",
       "      <td>0.0</td>\n",
       "      <td>21363.00</td>\n",
       "      <td>...</td>\n",
       "      <td>1</td>\n",
       "      <td>0</td>\n",
       "      <td>0</td>\n",
       "      <td>0</td>\n",
       "      <td>1</td>\n",
       "      <td>0</td>\n",
       "      <td>1</td>\n",
       "      <td>0</td>\n",
       "      <td>0</td>\n",
       "      <td>0</td>\n",
       "    </tr>\n",
       "    <tr>\n",
       "      <td>4</td>\n",
       "      <td>4</td>\n",
       "      <td>1</td>\n",
       "      <td>11668.14</td>\n",
       "      <td>41554.0</td>\n",
       "      <td>29885.86</td>\n",
       "      <td>0.0</td>\n",
       "      <td>0.0</td>\n",
       "      <td>0</td>\n",
       "      <td>0.0</td>\n",
       "      <td>11668.14</td>\n",
       "      <td>...</td>\n",
       "      <td>0</td>\n",
       "      <td>0</td>\n",
       "      <td>1</td>\n",
       "      <td>0</td>\n",
       "      <td>0</td>\n",
       "      <td>1</td>\n",
       "      <td>1</td>\n",
       "      <td>0</td>\n",
       "      <td>0</td>\n",
       "      <td>0</td>\n",
       "    </tr>\n",
       "  </tbody>\n",
       "</table>\n",
       "<p>5 rows × 22 columns</p>\n",
       "</div>"
      ],
      "text/plain": [
       "   Unnamed: 0  step    amount  oldBalanceOrig  newBalanceOrig  oldBalanceDest  \\\n",
       "0           0     1   9839.64        170136.0       160296.36             0.0   \n",
       "1           1     1   1864.28         21249.0        19384.72             0.0   \n",
       "2           2     1    181.00           181.0            0.00             0.0   \n",
       "3           3     1    181.00           181.0            0.00         21182.0   \n",
       "4           4     1  11668.14         41554.0        29885.86             0.0   \n",
       "\n",
       "   newBalanceDest  isFraud  errorBalanceOrig  errorBalanceDest  ...  CASH_OUT  \\\n",
       "0             0.0        0               0.0           9839.64  ...         0   \n",
       "1             0.0        0               0.0           1864.28  ...         0   \n",
       "2             0.0        1               0.0            181.00  ...         0   \n",
       "3             0.0        1               0.0          21363.00  ...         1   \n",
       "4             0.0        0               0.0          11668.14  ...         0   \n",
       "\n",
       "   DEBIT  PAYMENT  TRANSFER  CC  CM  quartile1  quartile2  quartile3  \\\n",
       "0      0        1         0   0   1          1          0          0   \n",
       "1      0        1         0   0   1          1          0          0   \n",
       "2      0        0         1   1   0          1          0          0   \n",
       "3      0        0         0   1   0          1          0          0   \n",
       "4      0        1         0   0   1          1          0          0   \n",
       "\n",
       "   quartile4  \n",
       "0          0  \n",
       "1          0  \n",
       "2          0  \n",
       "3          0  \n",
       "4          0  \n",
       "\n",
       "[5 rows x 22 columns]"
      ]
     },
     "execution_count": 2,
     "metadata": {},
     "output_type": "execute_result"
    }
   ],
   "source": [
    "# Load dataset \n",
    "df = pd.read_csv(\"df_new.csv\")\n",
    "df.head()"
   ]
  },
  {
   "cell_type": "code",
   "execution_count": 3,
   "metadata": {},
   "outputs": [
    {
     "data": {
      "text/html": [
       "<div>\n",
       "<style scoped>\n",
       "    .dataframe tbody tr th:only-of-type {\n",
       "        vertical-align: middle;\n",
       "    }\n",
       "\n",
       "    .dataframe tbody tr th {\n",
       "        vertical-align: top;\n",
       "    }\n",
       "\n",
       "    .dataframe thead th {\n",
       "        text-align: right;\n",
       "    }\n",
       "</style>\n",
       "<table border=\"1\" class=\"dataframe\">\n",
       "  <thead>\n",
       "    <tr style=\"text-align: right;\">\n",
       "      <th></th>\n",
       "      <th>amount</th>\n",
       "      <th>oldBalanceOrig</th>\n",
       "      <th>newBalanceOrig</th>\n",
       "      <th>oldBalanceDest</th>\n",
       "      <th>newBalanceDest</th>\n",
       "      <th>isFraud</th>\n",
       "      <th>errorBalanceOrig</th>\n",
       "      <th>errorBalanceDest</th>\n",
       "      <th>day</th>\n",
       "      <th>CASH_IN</th>\n",
       "      <th>CASH_OUT</th>\n",
       "      <th>DEBIT</th>\n",
       "      <th>PAYMENT</th>\n",
       "      <th>TRANSFER</th>\n",
       "      <th>CC</th>\n",
       "      <th>CM</th>\n",
       "      <th>quartile1</th>\n",
       "      <th>quartile2</th>\n",
       "      <th>quartile3</th>\n",
       "      <th>quartile4</th>\n",
       "    </tr>\n",
       "  </thead>\n",
       "  <tbody>\n",
       "    <tr>\n",
       "      <td>0</td>\n",
       "      <td>9839.64</td>\n",
       "      <td>170136.0</td>\n",
       "      <td>160296.36</td>\n",
       "      <td>0.0</td>\n",
       "      <td>0.0</td>\n",
       "      <td>0</td>\n",
       "      <td>0.0</td>\n",
       "      <td>9839.64</td>\n",
       "      <td>0</td>\n",
       "      <td>0</td>\n",
       "      <td>0</td>\n",
       "      <td>0</td>\n",
       "      <td>1</td>\n",
       "      <td>0</td>\n",
       "      <td>0</td>\n",
       "      <td>1</td>\n",
       "      <td>1</td>\n",
       "      <td>0</td>\n",
       "      <td>0</td>\n",
       "      <td>0</td>\n",
       "    </tr>\n",
       "    <tr>\n",
       "      <td>1</td>\n",
       "      <td>1864.28</td>\n",
       "      <td>21249.0</td>\n",
       "      <td>19384.72</td>\n",
       "      <td>0.0</td>\n",
       "      <td>0.0</td>\n",
       "      <td>0</td>\n",
       "      <td>0.0</td>\n",
       "      <td>1864.28</td>\n",
       "      <td>0</td>\n",
       "      <td>0</td>\n",
       "      <td>0</td>\n",
       "      <td>0</td>\n",
       "      <td>1</td>\n",
       "      <td>0</td>\n",
       "      <td>0</td>\n",
       "      <td>1</td>\n",
       "      <td>1</td>\n",
       "      <td>0</td>\n",
       "      <td>0</td>\n",
       "      <td>0</td>\n",
       "    </tr>\n",
       "    <tr>\n",
       "      <td>2</td>\n",
       "      <td>181.00</td>\n",
       "      <td>181.0</td>\n",
       "      <td>0.00</td>\n",
       "      <td>0.0</td>\n",
       "      <td>0.0</td>\n",
       "      <td>1</td>\n",
       "      <td>0.0</td>\n",
       "      <td>181.00</td>\n",
       "      <td>0</td>\n",
       "      <td>0</td>\n",
       "      <td>0</td>\n",
       "      <td>0</td>\n",
       "      <td>0</td>\n",
       "      <td>1</td>\n",
       "      <td>1</td>\n",
       "      <td>0</td>\n",
       "      <td>1</td>\n",
       "      <td>0</td>\n",
       "      <td>0</td>\n",
       "      <td>0</td>\n",
       "    </tr>\n",
       "    <tr>\n",
       "      <td>3</td>\n",
       "      <td>181.00</td>\n",
       "      <td>181.0</td>\n",
       "      <td>0.00</td>\n",
       "      <td>21182.0</td>\n",
       "      <td>0.0</td>\n",
       "      <td>1</td>\n",
       "      <td>0.0</td>\n",
       "      <td>21363.00</td>\n",
       "      <td>0</td>\n",
       "      <td>0</td>\n",
       "      <td>1</td>\n",
       "      <td>0</td>\n",
       "      <td>0</td>\n",
       "      <td>0</td>\n",
       "      <td>1</td>\n",
       "      <td>0</td>\n",
       "      <td>1</td>\n",
       "      <td>0</td>\n",
       "      <td>0</td>\n",
       "      <td>0</td>\n",
       "    </tr>\n",
       "    <tr>\n",
       "      <td>4</td>\n",
       "      <td>11668.14</td>\n",
       "      <td>41554.0</td>\n",
       "      <td>29885.86</td>\n",
       "      <td>0.0</td>\n",
       "      <td>0.0</td>\n",
       "      <td>0</td>\n",
       "      <td>0.0</td>\n",
       "      <td>11668.14</td>\n",
       "      <td>0</td>\n",
       "      <td>0</td>\n",
       "      <td>0</td>\n",
       "      <td>0</td>\n",
       "      <td>1</td>\n",
       "      <td>0</td>\n",
       "      <td>0</td>\n",
       "      <td>1</td>\n",
       "      <td>1</td>\n",
       "      <td>0</td>\n",
       "      <td>0</td>\n",
       "      <td>0</td>\n",
       "    </tr>\n",
       "  </tbody>\n",
       "</table>\n",
       "</div>"
      ],
      "text/plain": [
       "     amount  oldBalanceOrig  newBalanceOrig  oldBalanceDest  newBalanceDest  \\\n",
       "0   9839.64        170136.0       160296.36             0.0             0.0   \n",
       "1   1864.28         21249.0        19384.72             0.0             0.0   \n",
       "2    181.00           181.0            0.00             0.0             0.0   \n",
       "3    181.00           181.0            0.00         21182.0             0.0   \n",
       "4  11668.14         41554.0        29885.86             0.0             0.0   \n",
       "\n",
       "   isFraud  errorBalanceOrig  errorBalanceDest  day  CASH_IN  CASH_OUT  DEBIT  \\\n",
       "0        0               0.0           9839.64    0        0         0      0   \n",
       "1        0               0.0           1864.28    0        0         0      0   \n",
       "2        1               0.0            181.00    0        0         0      0   \n",
       "3        1               0.0          21363.00    0        0         1      0   \n",
       "4        0               0.0          11668.14    0        0         0      0   \n",
       "\n",
       "   PAYMENT  TRANSFER  CC  CM  quartile1  quartile2  quartile3  quartile4  \n",
       "0        1         0   0   1          1          0          0          0  \n",
       "1        1         0   0   1          1          0          0          0  \n",
       "2        0         1   1   0          1          0          0          0  \n",
       "3        0         0   1   0          1          0          0          0  \n",
       "4        1         0   0   1          1          0          0          0  "
      ]
     },
     "execution_count": 3,
     "metadata": {},
     "output_type": "execute_result"
    }
   ],
   "source": [
    "# Drop unnecessary column and step (since we already create \"day\" from step)\n",
    "df.drop([df.columns[0],'step'],axis = 1,inplace = True)\n",
    "df.head()"
   ]
  },
  {
   "cell_type": "code",
   "execution_count": 4,
   "metadata": {},
   "outputs": [
    {
     "name": "stdout",
     "output_type": "stream",
     "text": [
      "(6362620, 19)\n",
      "(6362620,)\n"
     ]
    }
   ],
   "source": [
    "# Create X and y object \n",
    "X = df.drop(['isFraud'], axis=1)\n",
    "y = df['isFraud']\n",
    "# Verify shape\n",
    "print(X.shape)\n",
    "print(y.shape)"
   ]
  },
  {
   "cell_type": "code",
   "execution_count": 68,
   "metadata": {},
   "outputs": [
    {
     "name": "stdout",
     "output_type": "stream",
     "text": [
      "(5090096, 19)\n",
      "(5090096,)\n",
      "(1272524, 19)\n",
      "(1272524,)\n"
     ]
    }
   ],
   "source": [
    "# Split into train and test data, randome_state = SEED for reproducibility\n",
    "X_train, X_test, y_train, y_test= train_test_split(X, y, test_size=0.2, stratify = y, random_state = SEED)\n",
    "# Verify shape for train and test sets\n",
    "print(X_train.shape)\n",
    "print(y_train.shape)\n",
    "print(X_test.shape)\n",
    "print(y_test.shape)"
   ]
  },
  {
   "cell_type": "code",
   "execution_count": 6,
   "metadata": {},
   "outputs": [
    {
     "name": "stdout",
     "output_type": "stream",
     "text": [
      "Counter({0: 5083526, 1: 6570})\n"
     ]
    }
   ],
   "source": [
    "from collections import Counter\n",
    "# Summarize class distribution\n",
    "counter1 = Counter(y_train)\n",
    "print(counter1)"
   ]
  },
  {
   "cell_type": "code",
   "execution_count": 7,
   "metadata": {},
   "outputs": [
    {
     "name": "stdout",
     "output_type": "stream",
     "text": [
      "Counter({0: 1270881, 1: 1643})\n"
     ]
    }
   ],
   "source": [
    "counter2 = Counter(y_test)\n",
    "print(counter2)"
   ]
  },
  {
   "cell_type": "markdown",
   "metadata": {},
   "source": [
    "We can see the 2 classes are very imbalanced. "
   ]
  },
  {
   "cell_type": "code",
   "execution_count": 69,
   "metadata": {},
   "outputs": [],
   "source": [
    "# Normalization: Fit minmax scaler on X_train data and transform both X_train and X_test data  \n",
    "scaler = MinMaxScaler().fit(X_train)\n",
    "X_train_scaled = scaler.transform(X_train)\n",
    "X_test_scaled = scaler.transform(X_test)"
   ]
  },
  {
   "cell_type": "code",
   "execution_count": 70,
   "metadata": {},
   "outputs": [
    {
     "name": "stdout",
     "output_type": "stream",
     "text": [
      "(1272524, 19)\n"
     ]
    }
   ],
   "source": [
    "print(X_test_scaled.shape)"
   ]
  },
  {
   "cell_type": "markdown",
   "metadata": {},
   "source": [
    "## Logistic Regression Base Model "
   ]
  },
  {
   "cell_type": "code",
   "execution_count": 9,
   "metadata": {},
   "outputs": [
    {
     "data": {
      "image/png": "[encoded data removed]",
      "text/plain": [
       "<Figure size 432x288 with 2 Axes>"
      ]
     },
     "metadata": {
      "needs_background": "light"
     },
     "output_type": "display_data"
    }
   ],
   "source": [
    "from sklearn.linear_model import LogisticRegression\n",
    "# Create a logistic regression instance \n",
    "log_reg = LogisticRegression(random_state=SEED)\n",
    "# Fit on X_train and y_train\n",
    "log_reg.fit(X_train_scaled, y_train)\n",
    "# Predict test data \n",
    "y_pred = log_reg.predict(X_test_scaled)\n",
    "\n",
    "# Generate confusion matrix and classification report \n",
    "cnf_test = metrics.confusion_matrix(y_test, y_pred)\n",
    "clr_test = metrics.classification_report(y_test, y_pred)\n",
    "\n",
    "# Create Heatmap for Confusion Matrix \n",
    "sns.heatmap(cnf_test, annot=True, cmap=\"YlGnBu\" ,fmt='g')\n",
    "plt.tight_layout()\n",
    "plt.title('Confusion Matrix for Logistic Regression Base Model Test Data', y=1.1)\n",
    "plt.ylabel('Actual label')\n",
    "plt.xlabel('Predicted label')\n",
    "\n",
    "# Fix for mpl bug that cuts off top/bottom of seaborn visualization\n",
    "b, t = plt.ylim() # discover the values for bottom and top\n",
    "b += 0.5 # Add 0.5 to the bottom\n",
    "t -= 0.5 # Subtract 0.5 from the top\n",
    "plt.ylim(b, t) # update the ylim(bottom, top) values\n",
    "plt.show()"
   ]
  },
  {
   "cell_type": "code",
   "execution_count": 10,
   "metadata": {},
   "outputs": [
    {
     "name": "stdout",
     "output_type": "stream",
     "text": [
      "              precision    recall  f1-score   support\n",
      "\n",
      "           0       1.00      1.00      1.00   1270881\n",
      "           1       0.97      0.11      0.19      1643\n",
      "\n",
      "    accuracy                           1.00   1272524\n",
      "   macro avg       0.99      0.55      0.60   1272524\n",
      "weighted avg       1.00      1.00      1.00   1272524\n",
      "\n"
     ]
    }
   ],
   "source": [
    "# Print classification report\n",
    "print(clr_test)"
   ]
  },
  {
   "cell_type": "code",
   "execution_count": 11,
   "metadata": {},
   "outputs": [
    {
     "data": {
      "image/png": "[encoded data removed]",
      "text/plain": [
       "<Figure size 432x144 with 2 Axes>"
      ]
     },
     "metadata": {
      "needs_background": "light"
     },
     "output_type": "display_data"
    }
   ],
   "source": [
    "# Save classification report for presentation \n",
    "clf_report1 = metrics.classification_report(y_test, y_pred, output_dict=True)\n",
    "df1 = pd.DataFrame(clf_report1).iloc[:-1, :2].T\n",
    "\n",
    "fig, ax = plt.subplots(figsize = (6, 2))\n",
    "sns.heatmap(df1, annot=True)\n",
    "plt.title(\"Classification Report of Logistic Regression Base Model\")\n",
    "ax.set_ylim(len(df1)+0, -0)\n",
    "fig.savefig(\"lg_base\", bbox_inches = 'tight')\n",
    "plt.show()"
   ]
  },
  {
   "cell_type": "code",
   "execution_count": 12,
   "metadata": {},
   "outputs": [
    {
     "name": "stdout",
     "output_type": "stream",
     "text": [
      "0.9402175284845834\n"
     ]
    }
   ],
   "source": [
    "# Calculate predicted probabilities \n",
    "probs = log_reg.predict_proba(X_test_scaled)\n",
    "# Calculate roc_auc_score for class 1 \n",
    "roc_auc_test = metrics.roc_auc_score(y_test, probs[:,1])\n",
    "print(roc_auc_test)"
   ]
  },
  {
   "cell_type": "code",
   "execution_count": 13,
   "metadata": {},
   "outputs": [
    {
     "data": {
      "image/png": "[encoded data removed]",
      "text/plain": [
       "<Figure size 432x288 with 2 Axes>"
      ]
     },
     "metadata": {
      "needs_background": "light"
     },
     "output_type": "display_data"
    }
   ],
   "source": [
    "# Predict train data \n",
    "y_pred_train = log_reg.predict(X_train_scaled)\n",
    "\n",
    "# Generate confusion matrix\n",
    "cnf_train = metrics.confusion_matrix(y_train, y_pred_train)\n",
    "\n",
    "# Create Heatmap for Confusion Matrix \n",
    "sns.heatmap(cnf_train, annot=True, cmap=\"YlGnBu\" ,fmt='g')\n",
    "plt.tight_layout()\n",
    "plt.title('Confusion Matrix for Logistic Regression Base Model on Train Data', y=1.1)\n",
    "plt.ylabel('Actual label')\n",
    "plt.xlabel('Predicted label')\n",
    "\n",
    "# Fix for mpl bug that cuts off top/bottom of seaborn visualization\n",
    "b, t = plt.ylim() # discover the values for bottom and top\n",
    "b += 0.5 # Add 0.5 to the bottom\n",
    "t -= 0.5 # Subtract 0.5 from the top\n",
    "plt.ylim(b, t) # update the ylim(bottom, top) values\n",
    "plt.show()"
   ]
  },
  {
   "cell_type": "code",
   "execution_count": 14,
   "metadata": {},
   "outputs": [
    {
     "name": "stdout",
     "output_type": "stream",
     "text": [
      "              precision    recall  f1-score   support\n",
      "\n",
      "           0       1.00      1.00      1.00   5083526\n",
      "           1       0.98      0.11      0.20      6570\n",
      "\n",
      "    accuracy                           1.00   5090096\n",
      "   macro avg       0.99      0.56      0.60   5090096\n",
      "weighted avg       1.00      1.00      1.00   5090096\n",
      "\n"
     ]
    }
   ],
   "source": [
    "# Generate classification report \n",
    "clr_train = metrics.classification_report(y_train, y_pred_train)\n",
    "print(clr_train)"
   ]
  },
  {
   "cell_type": "code",
   "execution_count": 15,
   "metadata": {},
   "outputs": [
    {
     "name": "stdout",
     "output_type": "stream",
     "text": [
      "0.9411876037699647\n"
     ]
    }
   ],
   "source": [
    "# Calculate predicted probability \n",
    "train_probs = log_reg.predict_proba(X_train_scaled)\n",
    "# Calculate roc_auc_score for class 1 \n",
    "roc_auc_train = metrics.roc_auc_score(y_train, train_probs[:,1])\n",
    "print(roc_auc_train)"
   ]
  },
  {
   "cell_type": "markdown",
   "metadata": {},
   "source": [
    "Results suggest that there is no overfitting with the logistic regression base model as the classification reports of the train and test sets suggest very similar performance. However, we can see very poor performance of the model on class 1 (especially the low recall), which is caused by the significant imbalance between the two classes. Therefore, we need to employ weighted logistic regression and oversampling techniques to account for such imbalance. "
   ]
  },
  {
   "cell_type": "markdown",
   "metadata": {},
   "source": [
    "## Weighted Logistic Regression "
   ]
  },
  {
   "cell_type": "code",
   "execution_count": 16,
   "metadata": {},
   "outputs": [
    {
     "name": "stdout",
     "output_type": "stream",
     "text": [
      "[  0.50064624 387.35054182]\n"
     ]
    }
   ],
   "source": [
    "from sklearn.utils.class_weight import compute_class_weight\n",
    "# Calculate class weighting\n",
    "weighting = compute_class_weight('balanced', [0,1], y)\n",
    "print(weighting)"
   ]
  },
  {
   "cell_type": "code",
   "execution_count": 17,
   "metadata": {},
   "outputs": [
    {
     "data": {
      "image/png": "[encoded data removed]",
      "text/plain": [
       "<Figure size 432x288 with 2 Axes>"
      ]
     },
     "metadata": {
      "needs_background": "light"
     },
     "output_type": "display_data"
    }
   ],
   "source": [
    "# Define model\n",
    "weights = {0:weighting[0], 1:weighting[1]}\n",
    "# Create a logistic regression instance with class weights \n",
    "wlr = LogisticRegression(class_weight=weights, random_state=SEED)\n",
    "# Fit on X_train and y_train\n",
    "wlr.fit(X_train_scaled, y_train)\n",
    "# Predict test data \n",
    "y_pred_wlr = wlr.predict(X_test_scaled)\n",
    "\n",
    "# Generate confusion matrix and classification report \n",
    "cnf_test_wlr = metrics.confusion_matrix(y_test, y_pred_wlr)\n",
    "clr_test_wlr = metrics.classification_report(y_test, y_pred_wlr)\n",
    "\n",
    "# Create Heatmap for Confusion Matrix \n",
    "sns.heatmap(cnf_test_wlr, annot=True, cmap=\"YlGnBu\" ,fmt='g')\n",
    "plt.tight_layout()\n",
    "plt.title('Confusion Matrix for Weighted Logistic Regression Model on Test Data', y=1.1)\n",
    "plt.ylabel('Actual label')\n",
    "plt.xlabel('Predicted label')\n",
    "\n",
    "# Fix for mpl bug that cuts off top/bottom of seaborn visualization\n",
    "b, t = plt.ylim() # discover the values for bottom and top\n",
    "b += 0.5 # Add 0.5 to the bottom\n",
    "t -= 0.5 # Subtract 0.5 from the top\n",
    "plt.ylim(b, t) # update the ylim(bottom, top) values\n",
    "plt.show()"
   ]
  },
  {
   "cell_type": "code",
   "execution_count": 18,
   "metadata": {},
   "outputs": [
    {
     "name": "stdout",
     "output_type": "stream",
     "text": [
      "              precision    recall  f1-score   support\n",
      "\n",
      "           0       1.00      0.93      0.96   1270881\n",
      "           1       0.02      0.94      0.03      1643\n",
      "\n",
      "    accuracy                           0.93   1272524\n",
      "   macro avg       0.51      0.93      0.50   1272524\n",
      "weighted avg       1.00      0.93      0.96   1272524\n",
      "\n"
     ]
    }
   ],
   "source": [
    "# Print classification report\n",
    "print(clr_test_wlr)"
   ]
  },
  {
   "cell_type": "code",
   "execution_count": 19,
   "metadata": {},
   "outputs": [
    {
     "data": {
      "image/png": "[encoded data removed]",
      "text/plain": [
       "<Figure size 432x144 with 2 Axes>"
      ]
     },
     "metadata": {
      "needs_background": "light"
     },
     "output_type": "display_data"
    }
   ],
   "source": [
    "# Save classification report for presentation \n",
    "clf_report2 = metrics.classification_report(y_test, y_pred_wlr, output_dict=True)\n",
    "df2 = pd.DataFrame(clf_report2).iloc[:-1, :2].T\n",
    "\n",
    "fig, ax = plt.subplots(figsize = (6, 2))\n",
    "sns.heatmap(df2, annot=True)\n",
    "plt.title(\"Classification Report of Weighted Logistic Regression Model\")\n",
    "ax.set_ylim(len(df2)+0, -0)\n",
    "fig.savefig(\"weighted_lg\", bbox_inches = 'tight')\n",
    "plt.show()"
   ]
  },
  {
   "cell_type": "code",
   "execution_count": 20,
   "metadata": {},
   "outputs": [
    {
     "name": "stdout",
     "output_type": "stream",
     "text": [
      "0.9858719392353051\n"
     ]
    }
   ],
   "source": [
    "# Calculate predicted probabilities \n",
    "wlr_probs = wlr.predict_proba(X_test_scaled)\n",
    "# Calculate roc_auc_score for class 1 \n",
    "roc_auc_test_wlr = metrics.roc_auc_score(y_test, wlr_probs[:,1])\n",
    "print(roc_auc_test_wlr)"
   ]
  },
  {
   "cell_type": "code",
   "execution_count": 21,
   "metadata": {},
   "outputs": [
    {
     "data": {
      "image/png": "[encoded data removed]",
      "text/plain": [
       "<Figure size 432x288 with 2 Axes>"
      ]
     },
     "metadata": {
      "needs_background": "light"
     },
     "output_type": "display_data"
    }
   ],
   "source": [
    "# Predict train data \n",
    "y_pred_wlr_train = wlr.predict(X_train_scaled)\n",
    "\n",
    "# Generate confusion matrix\n",
    "cnf_train_wlr = metrics.confusion_matrix(y_train, y_pred_wlr_train)\n",
    "\n",
    "# Create Heatmap for Confusion Matrix \n",
    "sns.heatmap(cnf_train_wlr, annot=True, cmap=\"YlGnBu\" ,fmt='g')\n",
    "plt.tight_layout()\n",
    "plt.title('Confusion Matrix for Weighted Logistic Regression Model on Train Data', y=1.1)\n",
    "plt.ylabel('Actual label')\n",
    "plt.xlabel('Predicted label')\n",
    "\n",
    "# Fix for mpl bug that cuts off top/bottom of seaborn visualization\n",
    "b, t = plt.ylim() # discover the values for bottom and top\n",
    "b += 0.5 # Add 0.5 to the bottom\n",
    "t -= 0.5 # Subtract 0.5 from the top\n",
    "plt.ylim(b, t) # update the ylim(bottom, top) values\n",
    "plt.show()"
   ]
  },
  {
   "cell_type": "code",
   "execution_count": 22,
   "metadata": {},
   "outputs": [
    {
     "name": "stdout",
     "output_type": "stream",
     "text": [
      "              precision    recall  f1-score   support\n",
      "\n",
      "           0       1.00      0.93      0.96   5083526\n",
      "           1       0.02      0.93      0.03      6570\n",
      "\n",
      "    accuracy                           0.93   5090096\n",
      "   macro avg       0.51      0.93      0.50   5090096\n",
      "weighted avg       1.00      0.93      0.96   5090096\n",
      "\n"
     ]
    }
   ],
   "source": [
    "# Generate classification report \n",
    "clr_wlr_train = metrics.classification_report(y_train, y_pred_wlr_train)\n",
    "print(clr_wlr_train)"
   ]
  },
  {
   "cell_type": "code",
   "execution_count": 23,
   "metadata": {},
   "outputs": [
    {
     "name": "stdout",
     "output_type": "stream",
     "text": [
      "0.9846513326641242\n"
     ]
    }
   ],
   "source": [
    "# Calculate predicted probability \n",
    "wlr_train_probs = wlr.predict_proba(X_train_scaled)\n",
    "# Calculate roc_auc_score for class 1 \n",
    "roc_auc_train_wlr = metrics.roc_auc_score(y_train, wlr_train_probs[:,1])\n",
    "print(roc_auc_train_wlr)"
   ]
  },
  {
   "cell_type": "markdown",
   "metadata": {},
   "source": [
    "There's no signs of overfitting since the roc-auc score and classification reports on the train and test data are very similar. Compared to the logistic regression base model, we can see significant improvements in the recall for class 1, which represents the proportion of true positives (frauds) out of the actual positives (frauds). The recall is an important metric for our evaluation because our model aims to correctly identify as many fraud cases as possible. We also see an increase in the roc-auc score, again suggesting that the weighted model perform better. "
   ]
  },
  {
   "cell_type": "markdown",
   "metadata": {},
   "source": [
    "## Weighted Logistic Regression + Grid Search"
   ]
  },
  {
   "cell_type": "code",
   "execution_count": 24,
   "metadata": {},
   "outputs": [
    {
     "data": {
      "text/plain": [
       "GridSearchCV(cv=5, error_score=nan,\n",
       "             estimator=LogisticRegression(C=1.0, class_weight=None, dual=False,\n",
       "                                          fit_intercept=True,\n",
       "                                          intercept_scaling=1, l1_ratio=None,\n",
       "                                          max_iter=100, multi_class='auto',\n",
       "                                          n_jobs=None, penalty='l2',\n",
       "                                          random_state=42, solver='lbfgs',\n",
       "                                          tol=0.0001, verbose=0,\n",
       "                                          warm_start=False),\n",
       "             iid='deprecated', n_jobs=-1,\n",
       "             param_grid={'class_weight': [{0: 1, 1: 10}, {0: 1, 1: 100},\n",
       "                                          {0: 1, 1: 500}, {0: 1, 1: 800},\n",
       "                                          {0: 1, 1: 1000}, {0: 1, 1: 1200}]},\n",
       "             pre_dispatch='2*n_jobs', refit=True, return_train_score=False,\n",
       "             scoring='recall', verbose=0)"
      ]
     },
     "execution_count": 24,
     "metadata": {},
     "output_type": "execute_result"
    }
   ],
   "source": [
    "# Define grid\n",
    "balance = [{0:1,1:10}, {0:1,1:100}, {0:1,1:500}, {0:1,1:800}, {0:1,1:1000}, {0:1,1:1200}]\n",
    "param_grid = {\"class_weight\": balance}\n",
    "\n",
    "# Create a logistic regression instance\n",
    "lr_obj = LogisticRegression(random_state = SEED)\n",
    "\n",
    "# Create grid search object with various combinations of parameters\n",
    "lr_Grid = GridSearchCV(lr_obj, param_grid, cv = 5, scoring = 'recall',refit = True, n_jobs=-1, verbose = 0)\n",
    "\n",
    "# Fit the grid search model on training data \n",
    "lr_Grid.fit(X_train_scaled, y_train)"
   ]
  },
  {
   "cell_type": "code",
   "execution_count": 25,
   "metadata": {},
   "outputs": [
    {
     "data": {
      "text/plain": [
       "LogisticRegression(C=1.0, class_weight={0: 1, 1: 1200}, dual=False,\n",
       "                   fit_intercept=True, intercept_scaling=1, l1_ratio=None,\n",
       "                   max_iter=100, multi_class='auto', n_jobs=None, penalty='l2',\n",
       "                   random_state=42, solver='lbfgs', tol=0.0001, verbose=0,\n",
       "                   warm_start=False)"
      ]
     },
     "execution_count": 25,
     "metadata": {},
     "output_type": "execute_result"
    }
   ],
   "source": [
    "# Identify the best model from my grid search \n",
    "best_wlr = lr_Grid.best_estimator_\n",
    "best_wlr"
   ]
  },
  {
   "cell_type": "code",
   "execution_count": 26,
   "metadata": {},
   "outputs": [
    {
     "data": {
      "image/png": "[encoded data removed]",
      "text/plain": [
       "<Figure size 432x288 with 2 Axes>"
      ]
     },
     "metadata": {
      "needs_background": "light"
     },
     "output_type": "display_data"
    }
   ],
   "source": [
    "# Predict test data \n",
    "y_pred_best_wlr = best_wlr.predict(X_test_scaled)\n",
    "\n",
    "# Generate confusion matrix and classification report \n",
    "cnf_test_best_wlr = metrics.confusion_matrix(y_test, y_pred_best_wlr)\n",
    "clr_test_best_wlr = metrics.classification_report(y_test, y_pred_best_wlr)\n",
    "\n",
    "# Create Heatmap for Confusion Matrix \n",
    "sns.heatmap(cnf_test_best_wlr, annot=True, cmap=\"YlGnBu\" ,fmt='g')\n",
    "plt.tight_layout()\n",
    "plt.title('Confusion Matrix for Best Weighted Logistic Regression Model on Test Data', y=1.1)\n",
    "plt.ylabel('Actual label')\n",
    "plt.xlabel('Predicted label')\n",
    "\n",
    "# Fix for mpl bug that cuts off top/bottom of seaborn visualization\n",
    "b, t = plt.ylim() # discover the values for bottom and top\n",
    "b += 0.5 # Add 0.5 to the bottom\n",
    "t -= 0.5 # Subtract 0.5 from the top\n",
    "plt.ylim(b, t) # update the ylim(bottom, top) values\n",
    "plt.show()"
   ]
  },
  {
   "cell_type": "code",
   "execution_count": 27,
   "metadata": {},
   "outputs": [
    {
     "name": "stdout",
     "output_type": "stream",
     "text": [
      "              precision    recall  f1-score   support\n",
      "\n",
      "           0       1.00      0.90      0.95   1270881\n",
      "           1       0.01      0.98      0.02      1643\n",
      "\n",
      "    accuracy                           0.90   1272524\n",
      "   macro avg       0.51      0.94      0.49   1272524\n",
      "weighted avg       1.00      0.90      0.95   1272524\n",
      "\n"
     ]
    }
   ],
   "source": [
    "# Print classification report\n",
    "print(clr_test_best_wlr)"
   ]
  },
  {
   "cell_type": "code",
   "execution_count": 28,
   "metadata": {},
   "outputs": [
    {
     "data": {
      "image/png": "[encoded data removed]",
      "text/plain": [
       "<Figure size 432x144 with 2 Axes>"
      ]
     },
     "metadata": {
      "needs_background": "light"
     },
     "output_type": "display_data"
    }
   ],
   "source": [
    "# Save classification report for presentation \n",
    "clf_report3 = metrics.classification_report(y_test, y_pred_best_wlr, output_dict=True)\n",
    "df3 = pd.DataFrame(clf_report3).iloc[:-1, :2].T\n",
    "\n",
    "fig, ax = plt.subplots(figsize = (6, 2))\n",
    "sns.heatmap(df3, annot=True)\n",
    "plt.title(\"Classification Report of Best Weighted Logistic Regression Model\")\n",
    "ax.set_ylim(len(df3)+0, -0)\n",
    "fig.savefig(\"best_wlr\", bbox_inches = 'tight')\n",
    "plt.show()"
   ]
  },
  {
   "cell_type": "code",
   "execution_count": 29,
   "metadata": {},
   "outputs": [
    {
     "name": "stdout",
     "output_type": "stream",
     "text": [
      "0.9863899987278272\n"
     ]
    }
   ],
   "source": [
    "# Calculate predicted probabilities \n",
    "best_wlr_probs = best_wlr.predict_proba(X_test_scaled)\n",
    "# Calculate roc_auc_score for class 1 \n",
    "roc_auc_best_wlr = metrics.roc_auc_score(y_test, best_wlr_probs[:,1])\n",
    "print(roc_auc_best_wlr)"
   ]
  },
  {
   "cell_type": "code",
   "execution_count": 30,
   "metadata": {},
   "outputs": [
    {
     "data": {
      "image/png": "[encoded data removed]",
      "text/plain": [
       "<Figure size 432x288 with 2 Axes>"
      ]
     },
     "metadata": {
      "needs_background": "light"
     },
     "output_type": "display_data"
    }
   ],
   "source": [
    "# Predict train data \n",
    "y_pred_best_wlr_train = best_wlr.predict(X_train_scaled)\n",
    "\n",
    "# Generate confusion matrix\n",
    "cnf_train_best_wlr = metrics.confusion_matrix(y_train, y_pred_wlr_train)\n",
    "\n",
    "# Create Heatmap for Confusion Matrix \n",
    "sns.heatmap(cnf_train_best_wlr, annot=True, cmap=\"YlGnBu\" ,fmt='g')\n",
    "plt.tight_layout()\n",
    "plt.title('Confusion Matrix for Best Weighted Logistic Regression Model on Train Data', y=1.1)\n",
    "plt.ylabel('Actual label')\n",
    "plt.xlabel('Predicted label')\n",
    "\n",
    "# Fix for mpl bug that cuts off top/bottom of seaborn visualization\n",
    "b, t = plt.ylim() # discover the values for bottom and top\n",
    "b += 0.5 # Add 0.5 to the bottom\n",
    "t -= 0.5 # Subtract 0.5 from the top\n",
    "plt.ylim(b, t) # update the ylim(bottom, top) values\n",
    "plt.show()"
   ]
  },
  {
   "cell_type": "code",
   "execution_count": 31,
   "metadata": {},
   "outputs": [
    {
     "name": "stdout",
     "output_type": "stream",
     "text": [
      "              precision    recall  f1-score   support\n",
      "\n",
      "           0       1.00      0.90      0.95   5083526\n",
      "           1       0.01      0.97      0.02      6570\n",
      "\n",
      "    accuracy                           0.90   5090096\n",
      "   macro avg       0.51      0.94      0.49   5090096\n",
      "weighted avg       1.00      0.90      0.95   5090096\n",
      "\n"
     ]
    }
   ],
   "source": [
    "# Generate classification report \n",
    "clr_best_wlr_train = metrics.classification_report(y_train, y_pred_best_wlr_train)\n",
    "print(clr_best_wlr_train)"
   ]
  },
  {
   "cell_type": "code",
   "execution_count": 32,
   "metadata": {},
   "outputs": [
    {
     "name": "stdout",
     "output_type": "stream",
     "text": [
      "0.9853651884583321\n"
     ]
    }
   ],
   "source": [
    "# Calculate predicted probability \n",
    "best_wlr_train_probs = best_wlr.predict_proba(X_train_scaled)\n",
    "# Calculate roc_auc_score for class 1 \n",
    "roc_auc_train_best_wlr = metrics.roc_auc_score(y_train, best_wlr_train_probs[:,1])\n",
    "print(roc_auc_train_best_wlr)"
   ]
  },
  {
   "cell_type": "markdown",
   "metadata": {},
   "source": [
    "There's no signs of overfitting since the roc-auc score and classification reports on the train and test data are very similar. Compared to the previous weighted logistic regression model (where class weights are based on ratio between the two classes), we see small improvement in model performance as the recall for class 1 increases slightly. "
   ]
  },
  {
   "cell_type": "markdown",
   "metadata": {},
   "source": [
    "## Logistic Regression with Over-Sampling "
   ]
  },
  {
   "cell_type": "code",
   "execution_count": 33,
   "metadata": {},
   "outputs": [
    {
     "name": "stderr",
     "output_type": "stream",
     "text": [
      "Using TensorFlow backend.\n"
     ]
    },
    {
     "name": "stdout",
     "output_type": "stream",
     "text": [
      "Resampled dataset shape Counter({0: 5083526, 1: 5083026})\n"
     ]
    }
   ],
   "source": [
    "from imblearn.over_sampling import ADASYN\n",
    "# Use ADASYN to create synthetic training data of the minority class \n",
    "adasyn = ADASYN(random_state = SEED, sampling_strategy = 1.0)\n",
    "X_train_res, y_train_res = adasyn.fit_resample(X_train_scaled, y_train)\n",
    "print('Resampled dataset shape %s' % Counter(y_train_res))"
   ]
  },
  {
   "cell_type": "code",
   "execution_count": 34,
   "metadata": {},
   "outputs": [
    {
     "name": "stdout",
     "output_type": "stream",
     "text": [
      "(10166552, 19)\n",
      "(10166552,)\n"
     ]
    }
   ],
   "source": [
    "print(X_train_res.shape)\n",
    "print(y_train_res.shape)"
   ]
  },
  {
   "cell_type": "code",
   "execution_count": 43,
   "metadata": {},
   "outputs": [
    {
     "name": "stdout",
     "output_type": "stream",
     "text": [
      "Test data shape Counter({0: 1270881, 1: 1643})\n"
     ]
    }
   ],
   "source": [
    "print('Test data shape %s' % Counter(y_test))"
   ]
  },
  {
   "cell_type": "markdown",
   "metadata": {},
   "source": [
    "The test set was not transformed by ADASYN and we can see the significant imbalance between the 2 classes. "
   ]
  },
  {
   "cell_type": "code",
   "execution_count": 100,
   "metadata": {},
   "outputs": [
    {
     "data": {
      "image/png": "[encoded data removed]",
      "text/plain": [
       "<Figure size 432x288 with 2 Axes>"
      ]
     },
     "metadata": {
      "needs_background": "light"
     },
     "output_type": "display_data"
    }
   ],
   "source": [
    "# Create a logistic regression instance \n",
    "lg = LogisticRegression(random_state=SEED)\n",
    "# Fit on X_train and y_train\n",
    "lg.fit(X_train_res, y_train_res)\n",
    "# Predict test data \n",
    "y_pred_res = lg.predict(X_test_scaled)\n",
    "\n",
    "# Generate confusion matrix and classification report \n",
    "cnf_test_res = metrics.confusion_matrix(y_test, y_pred_res)\n",
    "clr_test_res = metrics.classification_report(y_test, y_pred_res)\n",
    "\n",
    "# Create Heatmap for Confusion Matrix \n",
    "sns.heatmap(cnf_test_res, annot=True, cmap=\"YlGnBu\" ,fmt='g')\n",
    "plt.tight_layout()\n",
    "plt.title('Confusion Matrix for Logistic Regression Model on Test Data with Oversampling', y=1.1)\n",
    "plt.ylabel('Actual label')\n",
    "plt.xlabel('Predicted label')\n",
    "\n",
    "# Fix for mpl bug that cuts off top/bottom of seaborn visualization\n",
    "b, t = plt.ylim() # discover the values for bottom and top\n",
    "b += 0.5 # Add 0.5 to the bottom\n",
    "t -= 0.5 # Subtract 0.5 from the top\n",
    "plt.ylim(b, t) # update the ylim(bottom, top) values\n",
    "plt.savefig(\"cnf_lg_ada\", bbox_inches = 'tight')\n",
    "plt.show()"
   ]
  },
  {
   "cell_type": "markdown",
   "metadata": {},
   "source": [
    "1641 out of the 1643 fraud cases were successfully classified, thus we have a very high recall as shown in the classification report."
   ]
  },
  {
   "cell_type": "code",
   "execution_count": 36,
   "metadata": {},
   "outputs": [
    {
     "name": "stdout",
     "output_type": "stream",
     "text": [
      "              precision    recall  f1-score   support\n",
      "\n",
      "           0       1.00      0.86      0.92   1270881\n",
      "           1       0.01      1.00      0.02      1643\n",
      "\n",
      "    accuracy                           0.86   1272524\n",
      "   macro avg       0.50      0.93      0.47   1272524\n",
      "weighted avg       1.00      0.86      0.92   1272524\n",
      "\n"
     ]
    }
   ],
   "source": [
    "# Print classification report\n",
    "print(clr_test_res)"
   ]
  },
  {
   "cell_type": "code",
   "execution_count": 37,
   "metadata": {},
   "outputs": [
    {
     "data": {
      "image/png": "[encoded data removed]",
      "text/plain": [
       "<Figure size 432x144 with 2 Axes>"
      ]
     },
     "metadata": {
      "needs_background": "light"
     },
     "output_type": "display_data"
    }
   ],
   "source": [
    "# Save classification report for presentation \n",
    "clf_report4 = metrics.classification_report(y_test, y_pred_res, output_dict=True)\n",
    "df4 = pd.DataFrame(clf_report4).iloc[:-1, :2].T\n",
    "\n",
    "fig, ax = plt.subplots(figsize = (6, 2))\n",
    "sns.heatmap(df4, annot=True)\n",
    "plt.title(\"Classification Report of Logistic Regression Model with Oversampling\")\n",
    "ax.set_ylim(len(df4)+0, -0)\n",
    "fig.savefig(\"lg_with_oversampling\", bbox_inches = 'tight')\n",
    "plt.show()"
   ]
  },
  {
   "cell_type": "code",
   "execution_count": 38,
   "metadata": {},
   "outputs": [
    {
     "name": "stdout",
     "output_type": "stream",
     "text": [
      "0.9881078489446931\n"
     ]
    }
   ],
   "source": [
    "# Calculate predicted probabilities \n",
    "probs_res = lg.predict_proba(X_test_scaled)\n",
    "# Calculate roc_auc_score for class 1 \n",
    "roc_auc_test_res = metrics.roc_auc_score(y_test, probs_res[:,1])\n",
    "print(roc_auc_test_res)"
   ]
  },
  {
   "cell_type": "code",
   "execution_count": 39,
   "metadata": {},
   "outputs": [
    {
     "data": {
      "image/png": "[encoded data removed]",
      "text/plain": [
       "<Figure size 432x288 with 2 Axes>"
      ]
     },
     "metadata": {
      "needs_background": "light"
     },
     "output_type": "display_data"
    }
   ],
   "source": [
    "# Predict train data \n",
    "y_pred_train_res = lg.predict(X_train_res)\n",
    "\n",
    "# Generate confusion matrix\n",
    "cnf_train_res = metrics.confusion_matrix(y_train_res, y_pred_train_res)\n",
    "\n",
    "# Create Heatmap for Confusion Matrix \n",
    "sns.heatmap(cnf_train_res, annot=True, cmap=\"YlGnBu\" ,fmt='g')\n",
    "plt.tight_layout()\n",
    "plt.title('Confusion Matrix for Logistic Regression Model on Train Data with Oversampling', y=1.1)\n",
    "plt.ylabel('Actual label')\n",
    "plt.xlabel('Predicted label')\n",
    "\n",
    "# Fix for mpl bug that cuts off top/bottom of seaborn visualization\n",
    "b, t = plt.ylim() # discover the values for bottom and top\n",
    "b += 0.5 # Add 0.5 to the bottom\n",
    "t -= 0.5 # Subtract 0.5 from the top\n",
    "plt.ylim(b, t) # update the ylim(bottom, top) values\n",
    "plt.show()"
   ]
  },
  {
   "cell_type": "code",
   "execution_count": 40,
   "metadata": {},
   "outputs": [
    {
     "name": "stdout",
     "output_type": "stream",
     "text": [
      "              precision    recall  f1-score   support\n",
      "\n",
      "           0       0.99      0.86      0.92   5083526\n",
      "           1       0.88      0.99      0.93   5083026\n",
      "\n",
      "    accuracy                           0.92  10166552\n",
      "   macro avg       0.93      0.92      0.92  10166552\n",
      "weighted avg       0.93      0.92      0.92  10166552\n",
      "\n"
     ]
    }
   ],
   "source": [
    "# Generate classification report \n",
    "clr_train_res = metrics.classification_report(y_train_res, y_pred_train_res)\n",
    "print(clr_train_res)"
   ]
  },
  {
   "cell_type": "code",
   "execution_count": 41,
   "metadata": {},
   "outputs": [
    {
     "name": "stdout",
     "output_type": "stream",
     "text": [
      "0.9731222626809285\n"
     ]
    }
   ],
   "source": [
    "# Calculate predicted probability \n",
    "res_train_probs = lg.predict_proba(X_train_res)\n",
    "# Calculate roc_auc_score for class 1 \n",
    "roc_auc_train_res = metrics.roc_auc_score(y_train_res, res_train_probs[:,1])\n",
    "print(roc_auc_train_res)"
   ]
  },
  {
   "cell_type": "markdown",
   "metadata": {},
   "source": [
    "Comparing the roc_auc score and the classification report between the train and test datasets, no overfitting is found. The roc-auc scores are very close to one another, and the recall for the 2 classes are also similar. The low precision and recall for class 1 in the test data is due to the almost perfect recall, as only 2 fraud cases were missed. "
   ]
  },
  {
   "cell_type": "markdown",
   "metadata": {},
   "source": [
    "In this model, ADASYN was used as an oversampling technique to achieve class balance. ADASYN was chosen here as it is an improved version of SMOTE. What it does is same as SMOTE just with a minor improvement. After creating the synthetic sample, it adds random small values to the data points to make them more realistic. In other words, instead of all the samples being linearly correlated to the parent they have a little more variance in them i.e they are bit scattered. From the results, we can see that with oversampling, the logistic regression model performs really well on both the train and test data. Since the classes are balanced, we see very high precision and recall for both classes, in addition to the 0.96 accuracy and 0.99 roc-auc score.  "
   ]
  },
  {
   "cell_type": "code",
   "execution_count": 47,
   "metadata": {},
   "outputs": [],
   "source": [
    "# Convert from numpy array to pandas dataframe\n",
    "X_train_ada = pd.DataFrame(X_train_res)"
   ]
  },
  {
   "cell_type": "code",
   "execution_count": 53,
   "metadata": {},
   "outputs": [
    {
     "data": {
      "text/plain": [
       "0           0\n",
       "1           0\n",
       "2           0\n",
       "3           0\n",
       "4           0\n",
       "           ..\n",
       "10166547    1\n",
       "10166548    1\n",
       "10166549    1\n",
       "10166550    1\n",
       "10166551    1\n",
       "Name: isFraud, Length: 10166552, dtype: int64"
      ]
     },
     "execution_count": 53,
     "metadata": {},
     "output_type": "execute_result"
    }
   ],
   "source": [
    "# Rename y_train_res \n",
    "y_train_res.rename(\"isFraud\")"
   ]
  },
  {
   "cell_type": "code",
   "execution_count": 54,
   "metadata": {},
   "outputs": [
    {
     "data": {
      "text/html": [
       "<div>\n",
       "<style scoped>\n",
       "    .dataframe tbody tr th:only-of-type {\n",
       "        vertical-align: middle;\n",
       "    }\n",
       "\n",
       "    .dataframe tbody tr th {\n",
       "        vertical-align: top;\n",
       "    }\n",
       "\n",
       "    .dataframe thead th {\n",
       "        text-align: right;\n",
       "    }\n",
       "</style>\n",
       "<table border=\"1\" class=\"dataframe\">\n",
       "  <thead>\n",
       "    <tr style=\"text-align: right;\">\n",
       "      <th></th>\n",
       "      <th>0</th>\n",
       "      <th>1</th>\n",
       "      <th>2</th>\n",
       "      <th>3</th>\n",
       "      <th>4</th>\n",
       "      <th>5</th>\n",
       "      <th>6</th>\n",
       "      <th>7</th>\n",
       "      <th>8</th>\n",
       "      <th>9</th>\n",
       "      <th>10</th>\n",
       "      <th>11</th>\n",
       "      <th>12</th>\n",
       "      <th>13</th>\n",
       "      <th>14</th>\n",
       "      <th>15</th>\n",
       "      <th>16</th>\n",
       "      <th>17</th>\n",
       "      <th>18</th>\n",
       "      <th>isFraud</th>\n",
       "    </tr>\n",
       "  </thead>\n",
       "  <tbody>\n",
       "    <tr>\n",
       "      <td>0</td>\n",
       "      <td>0.000107</td>\n",
       "      <td>0.000743</td>\n",
       "      <td>0.000692</td>\n",
       "      <td>0.000000</td>\n",
       "      <td>0.000000</td>\n",
       "      <td>1.081718e-10</td>\n",
       "      <td>0.852023</td>\n",
       "      <td>0.000000</td>\n",
       "      <td>0.0</td>\n",
       "      <td>0.0</td>\n",
       "      <td>0.0</td>\n",
       "      <td>1.0</td>\n",
       "      <td>0.0</td>\n",
       "      <td>0.0</td>\n",
       "      <td>1.0</td>\n",
       "      <td>1.0</td>\n",
       "      <td>0.0</td>\n",
       "      <td>0.0</td>\n",
       "      <td>0.0</td>\n",
       "      <td>0</td>\n",
       "    </tr>\n",
       "    <tr>\n",
       "      <td>1</td>\n",
       "      <td>0.000074</td>\n",
       "      <td>0.000000</td>\n",
       "      <td>0.000000</td>\n",
       "      <td>0.000000</td>\n",
       "      <td>0.000000</td>\n",
       "      <td>7.414681e-05</td>\n",
       "      <td>0.851989</td>\n",
       "      <td>0.000000</td>\n",
       "      <td>0.0</td>\n",
       "      <td>0.0</td>\n",
       "      <td>0.0</td>\n",
       "      <td>1.0</td>\n",
       "      <td>0.0</td>\n",
       "      <td>0.0</td>\n",
       "      <td>1.0</td>\n",
       "      <td>1.0</td>\n",
       "      <td>0.0</td>\n",
       "      <td>0.0</td>\n",
       "      <td>0.0</td>\n",
       "      <td>0</td>\n",
       "    </tr>\n",
       "    <tr>\n",
       "      <td>2</td>\n",
       "      <td>0.003907</td>\n",
       "      <td>0.000000</td>\n",
       "      <td>0.000000</td>\n",
       "      <td>0.001376</td>\n",
       "      <td>0.002389</td>\n",
       "      <td>3.907294e-03</td>\n",
       "      <td>0.851912</td>\n",
       "      <td>0.300000</td>\n",
       "      <td>0.0</td>\n",
       "      <td>1.0</td>\n",
       "      <td>0.0</td>\n",
       "      <td>0.0</td>\n",
       "      <td>0.0</td>\n",
       "      <td>1.0</td>\n",
       "      <td>0.0</td>\n",
       "      <td>0.0</td>\n",
       "      <td>0.0</td>\n",
       "      <td>0.0</td>\n",
       "      <td>1.0</td>\n",
       "      <td>0</td>\n",
       "    </tr>\n",
       "    <tr>\n",
       "      <td>3</td>\n",
       "      <td>0.000077</td>\n",
       "      <td>0.000000</td>\n",
       "      <td>0.000000</td>\n",
       "      <td>0.000000</td>\n",
       "      <td>0.000000</td>\n",
       "      <td>7.662373e-05</td>\n",
       "      <td>0.851991</td>\n",
       "      <td>0.300000</td>\n",
       "      <td>0.0</td>\n",
       "      <td>0.0</td>\n",
       "      <td>0.0</td>\n",
       "      <td>1.0</td>\n",
       "      <td>0.0</td>\n",
       "      <td>0.0</td>\n",
       "      <td>1.0</td>\n",
       "      <td>1.0</td>\n",
       "      <td>0.0</td>\n",
       "      <td>0.0</td>\n",
       "      <td>0.0</td>\n",
       "      <td>0</td>\n",
       "    </tr>\n",
       "    <tr>\n",
       "      <td>4</td>\n",
       "      <td>0.002358</td>\n",
       "      <td>0.218942</td>\n",
       "      <td>0.267494</td>\n",
       "      <td>0.006848</td>\n",
       "      <td>0.006233</td>\n",
       "      <td>4.716714e-03</td>\n",
       "      <td>0.856807</td>\n",
       "      <td>0.166667</td>\n",
       "      <td>1.0</td>\n",
       "      <td>0.0</td>\n",
       "      <td>0.0</td>\n",
       "      <td>0.0</td>\n",
       "      <td>0.0</td>\n",
       "      <td>1.0</td>\n",
       "      <td>0.0</td>\n",
       "      <td>0.0</td>\n",
       "      <td>0.0</td>\n",
       "      <td>0.0</td>\n",
       "      <td>1.0</td>\n",
       "      <td>0</td>\n",
       "    </tr>\n",
       "  </tbody>\n",
       "</table>\n",
       "</div>"
      ],
      "text/plain": [
       "          0         1         2         3         4             5         6  \\\n",
       "0  0.000107  0.000743  0.000692  0.000000  0.000000  1.081718e-10  0.852023   \n",
       "1  0.000074  0.000000  0.000000  0.000000  0.000000  7.414681e-05  0.851989   \n",
       "2  0.003907  0.000000  0.000000  0.001376  0.002389  3.907294e-03  0.851912   \n",
       "3  0.000077  0.000000  0.000000  0.000000  0.000000  7.662373e-05  0.851991   \n",
       "4  0.002358  0.218942  0.267494  0.006848  0.006233  4.716714e-03  0.856807   \n",
       "\n",
       "          7    8    9   10   11   12   13   14   15   16   17   18  isFraud  \n",
       "0  0.000000  0.0  0.0  0.0  1.0  0.0  0.0  1.0  1.0  0.0  0.0  0.0        0  \n",
       "1  0.000000  0.0  0.0  0.0  1.0  0.0  0.0  1.0  1.0  0.0  0.0  0.0        0  \n",
       "2  0.300000  0.0  1.0  0.0  0.0  0.0  1.0  0.0  0.0  0.0  0.0  1.0        0  \n",
       "3  0.300000  0.0  0.0  0.0  1.0  0.0  0.0  1.0  1.0  0.0  0.0  0.0        0  \n",
       "4  0.166667  1.0  0.0  0.0  0.0  0.0  1.0  0.0  0.0  0.0  0.0  1.0        0  "
      ]
     },
     "execution_count": 54,
     "metadata": {},
     "output_type": "execute_result"
    }
   ],
   "source": [
    "# Merge the resampled X_train and y_train data \n",
    "resampled_train = pd.concat([X_train_ada, y_train_res], axis=1, join='inner')\n",
    "resampled_train.head()"
   ]
  },
  {
   "cell_type": "code",
   "execution_count": 55,
   "metadata": {},
   "outputs": [
    {
     "data": {
      "text/plain": [
       "(10166552, 20)"
      ]
     },
     "execution_count": 55,
     "metadata": {},
     "output_type": "execute_result"
    }
   ],
   "source": [
    "resampled_train.shape"
   ]
  },
  {
   "cell_type": "code",
   "execution_count": 56,
   "metadata": {},
   "outputs": [],
   "source": [
    "# Save dataset after oversampling\n",
    "resampled_train.to_csv('resampled_train_data.csv', index = False)"
   ]
  },
  {
   "cell_type": "code",
   "execution_count": 81,
   "metadata": {},
   "outputs": [
    {
     "data": {
      "text/plain": [
       "(1272524,)"
      ]
     },
     "execution_count": 81,
     "metadata": {},
     "output_type": "execute_result"
    }
   ],
   "source": [
    "y_test.shape"
   ]
  },
  {
   "cell_type": "code",
   "execution_count": 85,
   "metadata": {},
   "outputs": [
    {
     "data": {
      "text/plain": [
       "(1272524, 19)"
      ]
     },
     "execution_count": 85,
     "metadata": {},
     "output_type": "execute_result"
    }
   ],
   "source": [
    "X_test_scaled.shape"
   ]
  },
  {
   "cell_type": "code",
   "execution_count": 79,
   "metadata": {},
   "outputs": [
    {
     "data": {
      "text/html": [
       "<div>\n",
       "<style scoped>\n",
       "    .dataframe tbody tr th:only-of-type {\n",
       "        vertical-align: middle;\n",
       "    }\n",
       "\n",
       "    .dataframe tbody tr th {\n",
       "        vertical-align: top;\n",
       "    }\n",
       "\n",
       "    .dataframe thead th {\n",
       "        text-align: right;\n",
       "    }\n",
       "</style>\n",
       "<table border=\"1\" class=\"dataframe\">\n",
       "  <thead>\n",
       "    <tr style=\"text-align: right;\">\n",
       "      <th></th>\n",
       "      <th>0</th>\n",
       "      <th>1</th>\n",
       "      <th>2</th>\n",
       "      <th>3</th>\n",
       "      <th>4</th>\n",
       "      <th>5</th>\n",
       "      <th>6</th>\n",
       "      <th>7</th>\n",
       "      <th>8</th>\n",
       "      <th>9</th>\n",
       "      <th>10</th>\n",
       "      <th>11</th>\n",
       "      <th>12</th>\n",
       "      <th>13</th>\n",
       "      <th>14</th>\n",
       "      <th>15</th>\n",
       "      <th>16</th>\n",
       "      <th>17</th>\n",
       "      <th>18</th>\n",
       "    </tr>\n",
       "  </thead>\n",
       "  <tbody>\n",
       "    <tr>\n",
       "      <td>0</td>\n",
       "      <td>0.009634</td>\n",
       "      <td>0.000004</td>\n",
       "      <td>0.000000</td>\n",
       "      <td>0.000000</td>\n",
       "      <td>0.002500</td>\n",
       "      <td>0.009631</td>\n",
       "      <td>0.851912</td>\n",
       "      <td>0.400000</td>\n",
       "      <td>0.0</td>\n",
       "      <td>0.0</td>\n",
       "      <td>0.0</td>\n",
       "      <td>0.0</td>\n",
       "      <td>1.0</td>\n",
       "      <td>1.0</td>\n",
       "      <td>0.0</td>\n",
       "      <td>0.0</td>\n",
       "      <td>0.0</td>\n",
       "      <td>0.0</td>\n",
       "      <td>1.0</td>\n",
       "    </tr>\n",
       "    <tr>\n",
       "      <td>1</td>\n",
       "      <td>0.001057</td>\n",
       "      <td>0.035181</td>\n",
       "      <td>0.044247</td>\n",
       "      <td>0.000899</td>\n",
       "      <td>0.000624</td>\n",
       "      <td>0.002114</td>\n",
       "      <td>0.854106</td>\n",
       "      <td>0.533333</td>\n",
       "      <td>1.0</td>\n",
       "      <td>0.0</td>\n",
       "      <td>0.0</td>\n",
       "      <td>0.0</td>\n",
       "      <td>0.0</td>\n",
       "      <td>1.0</td>\n",
       "      <td>0.0</td>\n",
       "      <td>0.0</td>\n",
       "      <td>0.0</td>\n",
       "      <td>1.0</td>\n",
       "      <td>0.0</td>\n",
       "    </tr>\n",
       "    <tr>\n",
       "      <td>2</td>\n",
       "      <td>0.000064</td>\n",
       "      <td>0.000005</td>\n",
       "      <td>0.000000</td>\n",
       "      <td>0.000000</td>\n",
       "      <td>0.000000</td>\n",
       "      <td>0.000060</td>\n",
       "      <td>0.851978</td>\n",
       "      <td>0.966667</td>\n",
       "      <td>0.0</td>\n",
       "      <td>0.0</td>\n",
       "      <td>0.0</td>\n",
       "      <td>1.0</td>\n",
       "      <td>0.0</td>\n",
       "      <td>0.0</td>\n",
       "      <td>1.0</td>\n",
       "      <td>1.0</td>\n",
       "      <td>0.0</td>\n",
       "      <td>0.0</td>\n",
       "      <td>0.0</td>\n",
       "    </tr>\n",
       "    <tr>\n",
       "      <td>3</td>\n",
       "      <td>0.002030</td>\n",
       "      <td>0.000186</td>\n",
       "      <td>0.000000</td>\n",
       "      <td>0.005051</td>\n",
       "      <td>0.005575</td>\n",
       "      <td>0.001911</td>\n",
       "      <td>0.851912</td>\n",
       "      <td>0.233333</td>\n",
       "      <td>0.0</td>\n",
       "      <td>1.0</td>\n",
       "      <td>0.0</td>\n",
       "      <td>0.0</td>\n",
       "      <td>0.0</td>\n",
       "      <td>1.0</td>\n",
       "      <td>0.0</td>\n",
       "      <td>0.0</td>\n",
       "      <td>0.0</td>\n",
       "      <td>1.0</td>\n",
       "      <td>0.0</td>\n",
       "    </tr>\n",
       "    <tr>\n",
       "      <td>4</td>\n",
       "      <td>0.000894</td>\n",
       "      <td>0.000000</td>\n",
       "      <td>0.000000</td>\n",
       "      <td>0.002943</td>\n",
       "      <td>0.003174</td>\n",
       "      <td>0.000894</td>\n",
       "      <td>0.851912</td>\n",
       "      <td>0.433333</td>\n",
       "      <td>0.0</td>\n",
       "      <td>1.0</td>\n",
       "      <td>0.0</td>\n",
       "      <td>0.0</td>\n",
       "      <td>0.0</td>\n",
       "      <td>1.0</td>\n",
       "      <td>0.0</td>\n",
       "      <td>0.0</td>\n",
       "      <td>0.0</td>\n",
       "      <td>1.0</td>\n",
       "      <td>0.0</td>\n",
       "    </tr>\n",
       "    <tr>\n",
       "      <td>...</td>\n",
       "      <td>...</td>\n",
       "      <td>...</td>\n",
       "      <td>...</td>\n",
       "      <td>...</td>\n",
       "      <td>...</td>\n",
       "      <td>...</td>\n",
       "      <td>...</td>\n",
       "      <td>...</td>\n",
       "      <td>...</td>\n",
       "      <td>...</td>\n",
       "      <td>...</td>\n",
       "      <td>...</td>\n",
       "      <td>...</td>\n",
       "      <td>...</td>\n",
       "      <td>...</td>\n",
       "      <td>...</td>\n",
       "      <td>...</td>\n",
       "      <td>...</td>\n",
       "      <td>...</td>\n",
       "    </tr>\n",
       "    <tr>\n",
       "      <td>1272519</td>\n",
       "      <td>0.001515</td>\n",
       "      <td>0.000088</td>\n",
       "      <td>0.000000</td>\n",
       "      <td>0.000778</td>\n",
       "      <td>0.001170</td>\n",
       "      <td>0.001458</td>\n",
       "      <td>0.851912</td>\n",
       "      <td>0.433333</td>\n",
       "      <td>0.0</td>\n",
       "      <td>1.0</td>\n",
       "      <td>0.0</td>\n",
       "      <td>0.0</td>\n",
       "      <td>0.0</td>\n",
       "      <td>1.0</td>\n",
       "      <td>0.0</td>\n",
       "      <td>0.0</td>\n",
       "      <td>0.0</td>\n",
       "      <td>1.0</td>\n",
       "      <td>0.0</td>\n",
       "    </tr>\n",
       "    <tr>\n",
       "      <td>1272520</td>\n",
       "      <td>0.002951</td>\n",
       "      <td>0.000000</td>\n",
       "      <td>0.000000</td>\n",
       "      <td>0.004173</td>\n",
       "      <td>0.004937</td>\n",
       "      <td>0.002951</td>\n",
       "      <td>0.851912</td>\n",
       "      <td>0.500000</td>\n",
       "      <td>0.0</td>\n",
       "      <td>1.0</td>\n",
       "      <td>0.0</td>\n",
       "      <td>0.0</td>\n",
       "      <td>0.0</td>\n",
       "      <td>1.0</td>\n",
       "      <td>0.0</td>\n",
       "      <td>0.0</td>\n",
       "      <td>0.0</td>\n",
       "      <td>0.0</td>\n",
       "      <td>1.0</td>\n",
       "    </tr>\n",
       "    <tr>\n",
       "      <td>1272521</td>\n",
       "      <td>0.001468</td>\n",
       "      <td>0.000357</td>\n",
       "      <td>0.003165</td>\n",
       "      <td>0.001408</td>\n",
       "      <td>0.001027</td>\n",
       "      <td>0.002935</td>\n",
       "      <td>0.854958</td>\n",
       "      <td>0.500000</td>\n",
       "      <td>1.0</td>\n",
       "      <td>0.0</td>\n",
       "      <td>0.0</td>\n",
       "      <td>0.0</td>\n",
       "      <td>0.0</td>\n",
       "      <td>1.0</td>\n",
       "      <td>0.0</td>\n",
       "      <td>0.0</td>\n",
       "      <td>0.0</td>\n",
       "      <td>1.0</td>\n",
       "      <td>0.0</td>\n",
       "    </tr>\n",
       "    <tr>\n",
       "      <td>1272522</td>\n",
       "      <td>0.001562</td>\n",
       "      <td>0.000000</td>\n",
       "      <td>0.000000</td>\n",
       "      <td>0.005273</td>\n",
       "      <td>0.005676</td>\n",
       "      <td>0.001562</td>\n",
       "      <td>0.851912</td>\n",
       "      <td>0.000000</td>\n",
       "      <td>0.0</td>\n",
       "      <td>1.0</td>\n",
       "      <td>0.0</td>\n",
       "      <td>0.0</td>\n",
       "      <td>0.0</td>\n",
       "      <td>1.0</td>\n",
       "      <td>0.0</td>\n",
       "      <td>0.0</td>\n",
       "      <td>0.0</td>\n",
       "      <td>1.0</td>\n",
       "      <td>0.0</td>\n",
       "    </tr>\n",
       "    <tr>\n",
       "      <td>1272523</td>\n",
       "      <td>0.002621</td>\n",
       "      <td>0.000096</td>\n",
       "      <td>0.000000</td>\n",
       "      <td>0.000000</td>\n",
       "      <td>0.000680</td>\n",
       "      <td>0.002559</td>\n",
       "      <td>0.851912</td>\n",
       "      <td>0.266667</td>\n",
       "      <td>0.0</td>\n",
       "      <td>0.0</td>\n",
       "      <td>0.0</td>\n",
       "      <td>0.0</td>\n",
       "      <td>1.0</td>\n",
       "      <td>1.0</td>\n",
       "      <td>0.0</td>\n",
       "      <td>0.0</td>\n",
       "      <td>0.0</td>\n",
       "      <td>0.0</td>\n",
       "      <td>1.0</td>\n",
       "    </tr>\n",
       "  </tbody>\n",
       "</table>\n",
       "<p>1272524 rows × 19 columns</p>\n",
       "</div>"
      ],
      "text/plain": [
       "                0         1         2         3         4         5         6  \\\n",
       "0        0.009634  0.000004  0.000000  0.000000  0.002500  0.009631  0.851912   \n",
       "1        0.001057  0.035181  0.044247  0.000899  0.000624  0.002114  0.854106   \n",
       "2        0.000064  0.000005  0.000000  0.000000  0.000000  0.000060  0.851978   \n",
       "3        0.002030  0.000186  0.000000  0.005051  0.005575  0.001911  0.851912   \n",
       "4        0.000894  0.000000  0.000000  0.002943  0.003174  0.000894  0.851912   \n",
       "...           ...       ...       ...       ...       ...       ...       ...   \n",
       "1272519  0.001515  0.000088  0.000000  0.000778  0.001170  0.001458  0.851912   \n",
       "1272520  0.002951  0.000000  0.000000  0.004173  0.004937  0.002951  0.851912   \n",
       "1272521  0.001468  0.000357  0.003165  0.001408  0.001027  0.002935  0.854958   \n",
       "1272522  0.001562  0.000000  0.000000  0.005273  0.005676  0.001562  0.851912   \n",
       "1272523  0.002621  0.000096  0.000000  0.000000  0.000680  0.002559  0.851912   \n",
       "\n",
       "                7    8    9   10   11   12   13   14   15   16   17   18  \n",
       "0        0.400000  0.0  0.0  0.0  0.0  1.0  1.0  0.0  0.0  0.0  0.0  1.0  \n",
       "1        0.533333  1.0  0.0  0.0  0.0  0.0  1.0  0.0  0.0  0.0  1.0  0.0  \n",
       "2        0.966667  0.0  0.0  0.0  1.0  0.0  0.0  1.0  1.0  0.0  0.0  0.0  \n",
       "3        0.233333  0.0  1.0  0.0  0.0  0.0  1.0  0.0  0.0  0.0  1.0  0.0  \n",
       "4        0.433333  0.0  1.0  0.0  0.0  0.0  1.0  0.0  0.0  0.0  1.0  0.0  \n",
       "...           ...  ...  ...  ...  ...  ...  ...  ...  ...  ...  ...  ...  \n",
       "1272519  0.433333  0.0  1.0  0.0  0.0  0.0  1.0  0.0  0.0  0.0  1.0  0.0  \n",
       "1272520  0.500000  0.0  1.0  0.0  0.0  0.0  1.0  0.0  0.0  0.0  0.0  1.0  \n",
       "1272521  0.500000  1.0  0.0  0.0  0.0  0.0  1.0  0.0  0.0  0.0  1.0  0.0  \n",
       "1272522  0.000000  0.0  1.0  0.0  0.0  0.0  1.0  0.0  0.0  0.0  1.0  0.0  \n",
       "1272523  0.266667  0.0  0.0  0.0  0.0  1.0  1.0  0.0  0.0  0.0  0.0  1.0  \n",
       "\n",
       "[1272524 rows x 19 columns]"
      ]
     },
     "execution_count": 79,
     "metadata": {},
     "output_type": "execute_result"
    }
   ],
   "source": [
    "# Convert from numpy array to pandas dataframe\n",
    "X_test_saved = pd.DataFrame(X_test_scaled)\n",
    "X_test_saved"
   ]
  },
  {
   "cell_type": "code",
   "execution_count": 86,
   "metadata": {},
   "outputs": [
    {
     "data": {
      "text/plain": [
       "(1272524, 19)"
      ]
     },
     "execution_count": 86,
     "metadata": {},
     "output_type": "execute_result"
    }
   ],
   "source": [
    "X_test_saved.shape"
   ]
  },
  {
   "cell_type": "code",
   "execution_count": 92,
   "metadata": {},
   "outputs": [
    {
     "data": {
      "text/plain": [
       "4051353    0\n",
       "5746321    0\n",
       "6361797    0\n",
       "2247309    0\n",
       "4692207    0\n",
       "          ..\n",
       "4586779    0\n",
       "5202249    0\n",
       "5274477    0\n",
       "479091     0\n",
       "2496743    0\n",
       "Name: isFraud, Length: 1272524, dtype: int64"
      ]
     },
     "execution_count": 92,
     "metadata": {},
     "output_type": "execute_result"
    }
   ],
   "source": [
    "y_test"
   ]
  },
  {
   "cell_type": "code",
   "execution_count": 94,
   "metadata": {},
   "outputs": [
    {
     "name": "stdout",
     "output_type": "stream",
     "text": [
      "(1272524, 20)\n"
     ]
    },
    {
     "data": {
      "text/html": [
       "<div>\n",
       "<style scoped>\n",
       "    .dataframe tbody tr th:only-of-type {\n",
       "        vertical-align: middle;\n",
       "    }\n",
       "\n",
       "    .dataframe tbody tr th {\n",
       "        vertical-align: top;\n",
       "    }\n",
       "\n",
       "    .dataframe thead th {\n",
       "        text-align: right;\n",
       "    }\n",
       "</style>\n",
       "<table border=\"1\" class=\"dataframe\">\n",
       "  <thead>\n",
       "    <tr style=\"text-align: right;\">\n",
       "      <th></th>\n",
       "      <th>0</th>\n",
       "      <th>1</th>\n",
       "      <th>2</th>\n",
       "      <th>3</th>\n",
       "      <th>4</th>\n",
       "      <th>5</th>\n",
       "      <th>6</th>\n",
       "      <th>7</th>\n",
       "      <th>8</th>\n",
       "      <th>9</th>\n",
       "      <th>10</th>\n",
       "      <th>11</th>\n",
       "      <th>12</th>\n",
       "      <th>13</th>\n",
       "      <th>14</th>\n",
       "      <th>15</th>\n",
       "      <th>16</th>\n",
       "      <th>17</th>\n",
       "      <th>18</th>\n",
       "      <th>isFraud</th>\n",
       "    </tr>\n",
       "  </thead>\n",
       "  <tbody>\n",
       "    <tr>\n",
       "      <td>0</td>\n",
       "      <td>0.009634</td>\n",
       "      <td>0.000004</td>\n",
       "      <td>0.000000</td>\n",
       "      <td>0.000000</td>\n",
       "      <td>0.002500</td>\n",
       "      <td>0.009631</td>\n",
       "      <td>0.851912</td>\n",
       "      <td>0.400000</td>\n",
       "      <td>0.0</td>\n",
       "      <td>0.0</td>\n",
       "      <td>0.0</td>\n",
       "      <td>0.0</td>\n",
       "      <td>1.0</td>\n",
       "      <td>1.0</td>\n",
       "      <td>0.0</td>\n",
       "      <td>0.0</td>\n",
       "      <td>0.0</td>\n",
       "      <td>0.0</td>\n",
       "      <td>1.0</td>\n",
       "      <td>0</td>\n",
       "    </tr>\n",
       "    <tr>\n",
       "      <td>1</td>\n",
       "      <td>0.001057</td>\n",
       "      <td>0.035181</td>\n",
       "      <td>0.044247</td>\n",
       "      <td>0.000899</td>\n",
       "      <td>0.000624</td>\n",
       "      <td>0.002114</td>\n",
       "      <td>0.854106</td>\n",
       "      <td>0.533333</td>\n",
       "      <td>1.0</td>\n",
       "      <td>0.0</td>\n",
       "      <td>0.0</td>\n",
       "      <td>0.0</td>\n",
       "      <td>0.0</td>\n",
       "      <td>1.0</td>\n",
       "      <td>0.0</td>\n",
       "      <td>0.0</td>\n",
       "      <td>0.0</td>\n",
       "      <td>1.0</td>\n",
       "      <td>0.0</td>\n",
       "      <td>0</td>\n",
       "    </tr>\n",
       "    <tr>\n",
       "      <td>2</td>\n",
       "      <td>0.000064</td>\n",
       "      <td>0.000005</td>\n",
       "      <td>0.000000</td>\n",
       "      <td>0.000000</td>\n",
       "      <td>0.000000</td>\n",
       "      <td>0.000060</td>\n",
       "      <td>0.851978</td>\n",
       "      <td>0.966667</td>\n",
       "      <td>0.0</td>\n",
       "      <td>0.0</td>\n",
       "      <td>0.0</td>\n",
       "      <td>1.0</td>\n",
       "      <td>0.0</td>\n",
       "      <td>0.0</td>\n",
       "      <td>1.0</td>\n",
       "      <td>1.0</td>\n",
       "      <td>0.0</td>\n",
       "      <td>0.0</td>\n",
       "      <td>0.0</td>\n",
       "      <td>0</td>\n",
       "    </tr>\n",
       "    <tr>\n",
       "      <td>3</td>\n",
       "      <td>0.002030</td>\n",
       "      <td>0.000186</td>\n",
       "      <td>0.000000</td>\n",
       "      <td>0.005051</td>\n",
       "      <td>0.005575</td>\n",
       "      <td>0.001911</td>\n",
       "      <td>0.851912</td>\n",
       "      <td>0.233333</td>\n",
       "      <td>0.0</td>\n",
       "      <td>1.0</td>\n",
       "      <td>0.0</td>\n",
       "      <td>0.0</td>\n",
       "      <td>0.0</td>\n",
       "      <td>1.0</td>\n",
       "      <td>0.0</td>\n",
       "      <td>0.0</td>\n",
       "      <td>0.0</td>\n",
       "      <td>1.0</td>\n",
       "      <td>0.0</td>\n",
       "      <td>0</td>\n",
       "    </tr>\n",
       "    <tr>\n",
       "      <td>4</td>\n",
       "      <td>0.000894</td>\n",
       "      <td>0.000000</td>\n",
       "      <td>0.000000</td>\n",
       "      <td>0.002943</td>\n",
       "      <td>0.003174</td>\n",
       "      <td>0.000894</td>\n",
       "      <td>0.851912</td>\n",
       "      <td>0.433333</td>\n",
       "      <td>0.0</td>\n",
       "      <td>1.0</td>\n",
       "      <td>0.0</td>\n",
       "      <td>0.0</td>\n",
       "      <td>0.0</td>\n",
       "      <td>1.0</td>\n",
       "      <td>0.0</td>\n",
       "      <td>0.0</td>\n",
       "      <td>0.0</td>\n",
       "      <td>1.0</td>\n",
       "      <td>0.0</td>\n",
       "      <td>0</td>\n",
       "    </tr>\n",
       "  </tbody>\n",
       "</table>\n",
       "</div>"
      ],
      "text/plain": [
       "          0         1         2         3         4         5         6  \\\n",
       "0  0.009634  0.000004  0.000000  0.000000  0.002500  0.009631  0.851912   \n",
       "1  0.001057  0.035181  0.044247  0.000899  0.000624  0.002114  0.854106   \n",
       "2  0.000064  0.000005  0.000000  0.000000  0.000000  0.000060  0.851978   \n",
       "3  0.002030  0.000186  0.000000  0.005051  0.005575  0.001911  0.851912   \n",
       "4  0.000894  0.000000  0.000000  0.002943  0.003174  0.000894  0.851912   \n",
       "\n",
       "          7    8    9   10   11   12   13   14   15   16   17   18  isFraud  \n",
       "0  0.400000  0.0  0.0  0.0  0.0  1.0  1.0  0.0  0.0  0.0  0.0  1.0        0  \n",
       "1  0.533333  1.0  0.0  0.0  0.0  0.0  1.0  0.0  0.0  0.0  1.0  0.0        0  \n",
       "2  0.966667  0.0  0.0  0.0  1.0  0.0  0.0  1.0  1.0  0.0  0.0  0.0        0  \n",
       "3  0.233333  0.0  1.0  0.0  0.0  0.0  1.0  0.0  0.0  0.0  1.0  0.0        0  \n",
       "4  0.433333  0.0  1.0  0.0  0.0  0.0  1.0  0.0  0.0  0.0  1.0  0.0        0  "
      ]
     },
     "execution_count": 94,
     "metadata": {},
     "output_type": "execute_result"
    }
   ],
   "source": [
    "# Since the test dataset doesn't need to be over sampled, we will save the test data and retrieve later. \n",
    "test_dat = pd.concat([X_test_saved.reset_index(drop=True), y_test.reset_index(drop=True)], axis=1, join='inner')\n",
    "print(test_dat.shape)\n",
    "test_dat.head()"
   ]
  },
  {
   "cell_type": "code",
   "execution_count": 96,
   "metadata": {},
   "outputs": [],
   "source": [
    "# Save scaled(normalized) test data \n",
    "test_dat.to_csv('test_data.csv', index = False)"
   ]
  },
  {
   "cell_type": "code",
   "execution_count": null,
   "metadata": {},
   "outputs": [],
   "source": []
  }
 ],
 "metadata": {
  "kernelspec": {
   "display_name": "Python 3",
   "language": "python",
   "name": "python3"
  },
  "language_info": {
   "codemirror_mode": {
    "name": "ipython",
    "version": 3
   },
   "file_extension": ".py",
   "mimetype": "text/x-python",
   "name": "python",
   "nbconvert_exporter": "python",
   "pygments_lexer": "ipython3",
   "version": "3.7.3"
  }
 },
 "nbformat": 4,
 "nbformat_minor": 2
}
